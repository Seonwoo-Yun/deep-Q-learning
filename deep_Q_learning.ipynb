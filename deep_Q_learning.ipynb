{
  "nbformat": 4,
  "nbformat_minor": 0,
  "metadata": {
    "colab": {
      "provenance": [],
      "gpuType": "T4"
    },
    "kernelspec": {
      "name": "python3",
      "display_name": "Python 3"
    },
    "language_info": {
      "name": "python"
    },
    "accelerator": "GPU"
  },
  "cells": [
    {
      "cell_type": "code",
      "source": [
        "import numpy as np\n",
        "class ReLU:\n",
        "  def __init__(self):\n",
        "    self.params,self.grads=[],[]\n",
        "    self.out=None\n",
        "\n",
        "  def forward(self,x):\n",
        "    out=np.maximum(0,x)\n",
        "    self.out=out\n",
        "    return out\n",
        "\n",
        "  def backward(self,dout):\n",
        "      out=self.out\n",
        "      dx=dout*np.where(out>0,1,0)\n",
        "      return dx"
      ],
      "metadata": {
        "id": "o7rj6D-94uHO"
      },
      "execution_count": null,
      "outputs": []
    },
    {
      "cell_type": "code",
      "execution_count": null,
      "metadata": {
        "id": "vJWvy3lqkX6V"
      },
      "outputs": [],
      "source": [
        "import numpy as np\n",
        "class Sigmoid:\n",
        "  def __init__(self):\n",
        "    self.params,self.grads=[],[]\n",
        "    self.out=None\n",
        "\n",
        "  def forward(self,x):\n",
        "    out=1/(1+np.exp(-x))\n",
        "    self.out=out\n",
        "    return out\n",
        "\n",
        "  def backward(self,dout):\n",
        "    out=self.out\n",
        "    dx=dout*(out)*(1.0-out)\n",
        "    return dx"
      ]
    },
    {
      "cell_type": "code",
      "source": [
        "class MSELoss:\n",
        "  def __init__(self):\n",
        "    self.params=[]\n",
        "    self.grads=[]\n",
        "\n",
        "  def forward(self,x,t,actions):\n",
        "    t=np.vstack((t,t)).T\n",
        "    onehot_actions=np.zeros((len(actions),2))\n",
        "    for i,action in enumerate(actions):\n",
        "      onehot_actions[i][int(action)]=1\n",
        "\n",
        "    self.x=x\n",
        "    self.t=t\n",
        "    self.actions=onehot_actions\n",
        "    square=(x-t)*(x-t)*onehot_actions\n",
        "    out=square.sum()/len(x)\n",
        "    return out\n",
        "\n",
        "  def backward(self,dout):\n",
        "    return 2*dout*(self.x-self.t)*self.actions"
      ],
      "metadata": {
        "id": "djMRskfDZf2S"
      },
      "execution_count": null,
      "outputs": []
    },
    {
      "cell_type": "code",
      "source": [
        "class Affine:\n",
        "  def __init__(self,W,b):\n",
        "    self.params=[W,b]\n",
        "    self.grads=[np.zeros_like(W),np.zeros_like(b)]\n",
        "    self.x=None\n",
        "\n",
        "  def forward(self,x):\n",
        "    W,b=self.params\n",
        "    out=np.matmul(x,W)+b\n",
        "    self.x=x\n",
        "    return out\n",
        "\n",
        "  def backward(self,dout):\n",
        "    W,b=self.params\n",
        "    dx=np.matmul(dout,W.T)\n",
        "    dW=np.matmul(self.x.T,dout)\n",
        "    db=np.sum(dout,axis=0)\n",
        "\n",
        "    self.grads[0][...]=dW\n",
        "    self.grads[1][...]=db\n",
        "\n",
        "    return dx\n",
        "\n"
      ],
      "metadata": {
        "id": "--N3cdQVmrFl"
      },
      "execution_count": null,
      "outputs": []
    },
    {
      "cell_type": "code",
      "source": [
        "import numpy as np\n",
        "class NeuralNet():\n",
        "  def __init__(self,input_dim,output_dim,hidden_dim=(8,4)):\n",
        "\n",
        "    W=[]\n",
        "    b=[]\n",
        "    W.append(np.random.rand(input_dim,hidden_dim[0]))\n",
        "    b.append(np.random.rand(hidden_dim[0]))\n",
        "\n",
        "    for i in range(len(hidden_dim)-1):\n",
        "      W.append(np.random.rand(hidden_dim[i],hidden_dim[i+1]))\n",
        "      b.append(np.random.rand(hidden_dim[i+1]))\n",
        "    W.append(np.random.rand(hidden_dim[-1],output_dim))\n",
        "    b.append(np.random.rand(output_dim))\n",
        "\n",
        "    self.layers=[]\n",
        "    for i in range(len(W)-1):\n",
        "      self.layers.append(Affine(W[i],b[i]))\n",
        "      self.layers.append(Sigmoid())\n",
        "    self.layers.append(Affine(W[-1],b[-1]))\n",
        "    self.loss_fn=MSELoss()\n",
        "\n",
        "    self.params=[]\n",
        "    self.grads=[]\n",
        "    for layer in self.layers:\n",
        "      self.params+=layer.params\n",
        "      self.grads+=layer.grads\n",
        "  def predict(self,x):\n",
        "    self.batch_size=len(x)\n",
        "    for layer in self.layers:\n",
        "      x=layer.forward(x)\n",
        "    return x\n",
        "  def forward(self,x,t,actions):\n",
        "    y=self.predict(x)\n",
        "    loss=self.loss_fn.forward(y,t,actions)\n",
        "    return loss\n",
        "  def backward(self,dout=1):\n",
        "    dout=self.loss_fn.backward(dout)\n",
        "    for layer in reversed(self.layers):\n",
        "      dout=layer.backward(dout)\n"
      ],
      "metadata": {
        "id": "y2xuxJRVbsLk"
      },
      "execution_count": null,
      "outputs": []
    },
    {
      "cell_type": "markdown",
      "source": [
        "# Optimizers"
      ],
      "metadata": {
        "id": "ocaDqx0SsEIb"
      }
    },
    {
      "cell_type": "code",
      "source": [
        "class semi_GD():\n",
        "  def __init__(self,model,learning_rate):\n",
        "    self.lr=learning_rate\n",
        "    self.model=model\n",
        "  def update(self):\n",
        "    for i in range(len(self.model.params)):\n",
        "      self.model.params[i]-=self.lr*self.model.grads[i]\n",
        "\n",
        "class Momentum():\n",
        "  def __init__(self,model,lr,momentum):\n",
        "    self.lr=lr\n",
        "    self.momentum=momentum\n",
        "    self.model=model\n",
        "    self.v=[]\n",
        "    for i in range(len(self.model.params)):\n",
        "      self.v.append(np.zeros_like(self.model.grads[i]))\n",
        "  def update(self):\n",
        "    for i in range(len(self.model.params)):\n",
        "      self.v[i]=self.momentum*self.v[i]+self.model.grads[i]\n",
        "      self.model.params[i]-=self.lr*self.v\n",
        "\n",
        "class RMSProp():\n",
        "  def __init__(self,model,lr,gamma):\n",
        "    self.model=model\n",
        "    self.lr=lr\n",
        "    self.gamma=gamma\n",
        "    self.s=[]\n",
        "    for i in range(len(self.model.params)):\n",
        "      self.s.append(np.zeros_like(self.model.grads[i]))\n",
        "  def update(self):\n",
        "    epsilon=1e-6\n",
        "    for i in range(len(self.model.params)):\n",
        "      self.s[i]=self.gamma*self.s[i]+(1-self.gamma)*self.model.grads[i]*self.model.grads[i]\n",
        "      self.model.params[i]-=self.lr/np.sqrt(self.s[i]+epsilon)*self.model.grads[i]\n",
        "\n"
      ],
      "metadata": {
        "id": "y7x7E8A0-bWl"
      },
      "execution_count": null,
      "outputs": []
    },
    {
      "cell_type": "code",
      "source": [
        "import gym\n",
        "env=gym.make('Blackjack-v1')\n",
        "print(env.observation_space.sample())\n",
        "env.reset()\n",
        "s,r,terminated,truncated=env.step(1)\n",
        "print(s,r,terminated,truncated)"
      ],
      "metadata": {
        "colab": {
          "base_uri": "https://localhost:8080/"
        },
        "id": "rNCYGCSuyJQg",
        "outputId": "5f427f7e-e2eb-4534-8050-e8a56cf997f3"
      },
      "execution_count": null,
      "outputs": [
        {
          "output_type": "stream",
          "name": "stdout",
          "text": [
            "(22, 5, 1)\n",
            "(21, 1, False) 0.0 False {}\n"
          ]
        },
        {
          "output_type": "stream",
          "name": "stderr",
          "text": [
            "/usr/local/lib/python3.11/dist-packages/gym/core.py:317: DeprecationWarning: \u001b[33mWARN: Initializing wrapper in old step API which returns one bool instead of two. It is recommended to set `new_step_api=True` to use new step API. This will be the default behaviour in future.\u001b[0m\n",
            "  deprecation(\n",
            "/usr/local/lib/python3.11/dist-packages/gym/wrappers/step_api_compatibility.py:39: DeprecationWarning: \u001b[33mWARN: Initializing environment in old step API which returns one bool instead of two. It is recommended to set `new_step_api=True` to use new step API. This will be the default behaviour in future.\u001b[0m\n",
            "  deprecation(\n",
            "/usr/local/lib/python3.11/dist-packages/gym/utils/passive_env_checker.py:241: DeprecationWarning: `np.bool8` is a deprecated alias for `np.bool_`.  (Deprecated NumPy 1.24)\n",
            "  if not isinstance(terminated, (bool, np.bool8)):\n"
          ]
        }
      ]
    },
    {
      "cell_type": "markdown",
      "source": [
        "# Q-learning using neural network\n",
        "  train function"
      ],
      "metadata": {
        "id": "jOfnvVyYxJwU"
      }
    },
    {
      "cell_type": "code",
      "source": [
        "from tqdm import tqdm\n",
        "def epsilon_greedy(Q,epsilon=0.01):\n",
        "  p=np.random.rand()\n",
        "  if p>epsilon:\n",
        "    action=np.argmax(Q)\n",
        "  else:\n",
        "    action=np.random.choice(len(Q))\n",
        "  return action\n",
        "\n",
        "def train(env,strategy,model,optimizer,max_episode,max_epoch,batch_size,gamma):\n",
        "  batch=[]\n",
        "  counter=0\n",
        "  for episode in tqdm(range(max_episode)):\n",
        "    state,done=env.reset(),False\n",
        "    state=np.array(list(state)).reshape(1,-1)\n",
        "\n",
        "    while True:\n",
        "      Qs=model.predict(state)[0]\n",
        "      action=epsilon_greedy(Qs)\n",
        "      next_state,reward,done,_=env.step(action)\n",
        "      next_state=np.array(list(next_state)).reshape(1,-1)\n",
        "      batch.append([state[0],action,reward,next_state[0],float(done)])\n",
        "\n",
        "      #batch 데이터를 학습시킨다.\n",
        "      #문제점:첫번째 학습에만 그래디언트가 업데이트되고 두번째학습부터는 그래디언트 업데이트가 되지 않는다.\n",
        "      if len(batch)==batch_size:\n",
        "        counter+=1\n",
        "        states=np.array([x[0] for x in batch])\n",
        "        actions=[x[1] for x in batch]\n",
        "        rewards=np.array([x[2] for x in batch])\n",
        "        next_states=np.array([x[3] for x in batch])\n",
        "        dones=np.array([x[4] for x in batch])\n",
        "        for epoch in range(max_epoch):\n",
        "          Qns=model.predict(next_states)\n",
        "          Qns_max=Qns.max(axis=1)\n",
        "          Q_targets=rewards+gamma*Qns_max*(1-dones)\n",
        "          model.forward(states,Q_targets,actions)\n",
        "          model.backward()\n",
        "          optimizer.update()\n",
        "        if counter%100==0:\n",
        "          print(f'{counter}th batch loss={model.forward(states,Q_targets,actions)}')\n",
        "        batch=[]\n",
        "      if done:\n",
        "        break\n",
        "      state=next_state\n"
      ],
      "metadata": {
        "id": "YwChA4Wv1uG4"
      },
      "execution_count": null,
      "outputs": []
    },
    {
      "cell_type": "markdown",
      "source": [
        "# Deep Q-learning using gradient descent"
      ],
      "metadata": {
        "id": "xkZpGw3ERWKu"
      }
    },
    {
      "cell_type": "code",
      "source": [
        "import numpy as np\n",
        "def learned_policy(model):\n",
        "  states=[]\n",
        "  for i in range(2):\n",
        "    print('usable ace=',i)\n",
        "    for j in range(12,22):\n",
        "      print('Card sum=',j)\n",
        "      for k in range(10):\n",
        "        Qs=model.predict(np.array([j,k,i]).reshape(1,-1))\n",
        "        print(f'best action for state:{[j,k,i]}:{Qs.argmax()}')\n",
        "      print('\\n')\n",
        "    print('\\n')\n",
        "\n",
        "\n"
      ],
      "metadata": {
        "id": "CcuNv1xOLcNa"
      },
      "execution_count": null,
      "outputs": []
    },
    {
      "cell_type": "code",
      "source": [
        "max_episode=10**5\n",
        "max_epoch=40\n",
        "batch_size=128\n",
        "decay_rate=1\n",
        "lr=1e-4\n",
        "\n",
        "model_GD=NeuralNet(3,2)\n",
        "optimizer=semi_GD(model_GD,lr)\n",
        "\n",
        "train(env,epsilon_greedy,model_GD,optimizer,max_episode,max_epoch,batch_size,decay_rate)\n",
        "learned_policy(model_GD)"
      ],
      "metadata": {
        "colab": {
          "base_uri": "https://localhost:8080/"
        },
        "id": "TUuImchqNRR1",
        "outputId": "84274a88-175b-48dc-930c-fb5876baccab"
      },
      "execution_count": null,
      "outputs": [
        {
          "output_type": "stream",
          "name": "stderr",
          "text": [
            " 13%|█▎        | 13222/100000 [00:03<00:23, 3655.72it/s]"
          ]
        },
        {
          "output_type": "stream",
          "name": "stdout",
          "text": [
            "100th batch loss=0.917914183712629\n"
          ]
        },
        {
          "output_type": "stream",
          "name": "stderr",
          "text": [
            " 26%|██▌       | 25849/100000 [00:07<00:18, 4079.27it/s]"
          ]
        },
        {
          "output_type": "stream",
          "name": "stdout",
          "text": [
            "200th batch loss=0.968452554257319\n"
          ]
        },
        {
          "output_type": "stream",
          "name": "stderr",
          "text": [
            " 39%|███▉      | 38825/100000 [00:10<00:15, 3922.59it/s]"
          ]
        },
        {
          "output_type": "stream",
          "name": "stdout",
          "text": [
            "300th batch loss=0.8395742208400955\n"
          ]
        },
        {
          "output_type": "stream",
          "name": "stderr",
          "text": [
            " 51%|█████▏    | 51317/100000 [00:13<00:12, 3812.40it/s]"
          ]
        },
        {
          "output_type": "stream",
          "name": "stdout",
          "text": [
            "400th batch loss=0.9005250322548581\n"
          ]
        },
        {
          "output_type": "stream",
          "name": "stderr",
          "text": [
            " 64%|██████▍   | 64401/100000 [00:16<00:08, 4123.39it/s]"
          ]
        },
        {
          "output_type": "stream",
          "name": "stdout",
          "text": [
            "500th batch loss=0.8193616167693974\n"
          ]
        },
        {
          "output_type": "stream",
          "name": "stderr",
          "text": [
            " 77%|███████▋  | 77056/100000 [00:20<00:05, 4121.02it/s]"
          ]
        },
        {
          "output_type": "stream",
          "name": "stdout",
          "text": [
            "600th batch loss=0.8905757560677321\n"
          ]
        },
        {
          "output_type": "stream",
          "name": "stderr",
          "text": [
            " 90%|████████▉ | 89879/100000 [00:23<00:02, 4071.17it/s]"
          ]
        },
        {
          "output_type": "stream",
          "name": "stdout",
          "text": [
            "700th batch loss=0.9391243946425842\n"
          ]
        },
        {
          "output_type": "stream",
          "name": "stderr",
          "text": [
            "100%|██████████| 100000/100000 [00:25<00:00, 3899.31it/s]"
          ]
        },
        {
          "output_type": "stream",
          "name": "stdout",
          "text": [
            "usable ace= 0\n",
            "Card sum= 12\n",
            "best action for state:[12, 0, 0]:0\n",
            "best action for state:[12, 1, 0]:0\n",
            "best action for state:[12, 2, 0]:0\n",
            "best action for state:[12, 3, 0]:0\n",
            "best action for state:[12, 4, 0]:0\n",
            "best action for state:[12, 5, 0]:0\n",
            "best action for state:[12, 6, 0]:0\n",
            "best action for state:[12, 7, 0]:0\n",
            "best action for state:[12, 8, 0]:0\n",
            "best action for state:[12, 9, 0]:0\n",
            "\n",
            "\n",
            "Card sum= 13\n",
            "best action for state:[13, 0, 0]:0\n",
            "best action for state:[13, 1, 0]:0\n",
            "best action for state:[13, 2, 0]:0\n",
            "best action for state:[13, 3, 0]:0\n",
            "best action for state:[13, 4, 0]:0\n",
            "best action for state:[13, 5, 0]:0\n",
            "best action for state:[13, 6, 0]:0\n",
            "best action for state:[13, 7, 0]:0\n",
            "best action for state:[13, 8, 0]:0\n",
            "best action for state:[13, 9, 0]:0\n",
            "\n",
            "\n",
            "Card sum= 14\n",
            "best action for state:[14, 0, 0]:0\n",
            "best action for state:[14, 1, 0]:0\n",
            "best action for state:[14, 2, 0]:0\n",
            "best action for state:[14, 3, 0]:0\n",
            "best action for state:[14, 4, 0]:0\n",
            "best action for state:[14, 5, 0]:0\n",
            "best action for state:[14, 6, 0]:0\n",
            "best action for state:[14, 7, 0]:0\n",
            "best action for state:[14, 8, 0]:0\n",
            "best action for state:[14, 9, 0]:0\n",
            "\n",
            "\n",
            "Card sum= 15\n",
            "best action for state:[15, 0, 0]:0\n",
            "best action for state:[15, 1, 0]:0\n",
            "best action for state:[15, 2, 0]:0\n",
            "best action for state:[15, 3, 0]:0\n",
            "best action for state:[15, 4, 0]:0\n",
            "best action for state:[15, 5, 0]:0\n",
            "best action for state:[15, 6, 0]:0\n",
            "best action for state:[15, 7, 0]:0\n",
            "best action for state:[15, 8, 0]:0\n",
            "best action for state:[15, 9, 0]:0\n",
            "\n",
            "\n",
            "Card sum= 16\n",
            "best action for state:[16, 0, 0]:0\n",
            "best action for state:[16, 1, 0]:0\n",
            "best action for state:[16, 2, 0]:0\n",
            "best action for state:[16, 3, 0]:0\n",
            "best action for state:[16, 4, 0]:0\n",
            "best action for state:[16, 5, 0]:0\n",
            "best action for state:[16, 6, 0]:0\n",
            "best action for state:[16, 7, 0]:0\n",
            "best action for state:[16, 8, 0]:0\n",
            "best action for state:[16, 9, 0]:0\n",
            "\n",
            "\n",
            "Card sum= 17\n",
            "best action for state:[17, 0, 0]:0\n",
            "best action for state:[17, 1, 0]:0\n",
            "best action for state:[17, 2, 0]:0\n",
            "best action for state:[17, 3, 0]:0\n",
            "best action for state:[17, 4, 0]:0\n",
            "best action for state:[17, 5, 0]:0\n",
            "best action for state:[17, 6, 0]:0\n",
            "best action for state:[17, 7, 0]:0\n",
            "best action for state:[17, 8, 0]:0\n",
            "best action for state:[17, 9, 0]:0\n",
            "\n",
            "\n",
            "Card sum= 18\n",
            "best action for state:[18, 0, 0]:0\n",
            "best action for state:[18, 1, 0]:0\n",
            "best action for state:[18, 2, 0]:0\n",
            "best action for state:[18, 3, 0]:0\n",
            "best action for state:[18, 4, 0]:0\n",
            "best action for state:[18, 5, 0]:0\n",
            "best action for state:[18, 6, 0]:0\n",
            "best action for state:[18, 7, 0]:0\n",
            "best action for state:[18, 8, 0]:0\n",
            "best action for state:[18, 9, 0]:0\n",
            "\n",
            "\n",
            "Card sum= 19\n",
            "best action for state:[19, 0, 0]:0\n",
            "best action for state:[19, 1, 0]:0\n",
            "best action for state:[19, 2, 0]:0\n",
            "best action for state:[19, 3, 0]:0\n",
            "best action for state:[19, 4, 0]:0\n",
            "best action for state:[19, 5, 0]:0\n",
            "best action for state:[19, 6, 0]:0\n",
            "best action for state:[19, 7, 0]:0\n",
            "best action for state:[19, 8, 0]:0\n",
            "best action for state:[19, 9, 0]:0\n",
            "\n",
            "\n",
            "Card sum= 20\n",
            "best action for state:[20, 0, 0]:0\n",
            "best action for state:[20, 1, 0]:0\n",
            "best action for state:[20, 2, 0]:0\n",
            "best action for state:[20, 3, 0]:0\n",
            "best action for state:[20, 4, 0]:0\n",
            "best action for state:[20, 5, 0]:0\n",
            "best action for state:[20, 6, 0]:0\n",
            "best action for state:[20, 7, 0]:0\n",
            "best action for state:[20, 8, 0]:0\n",
            "best action for state:[20, 9, 0]:0\n",
            "\n",
            "\n",
            "Card sum= 21\n",
            "best action for state:[21, 0, 0]:0\n",
            "best action for state:[21, 1, 0]:0\n",
            "best action for state:[21, 2, 0]:0\n",
            "best action for state:[21, 3, 0]:0\n",
            "best action for state:[21, 4, 0]:0\n",
            "best action for state:[21, 5, 0]:0\n",
            "best action for state:[21, 6, 0]:0\n",
            "best action for state:[21, 7, 0]:0\n",
            "best action for state:[21, 8, 0]:0\n",
            "best action for state:[21, 9, 0]:0\n",
            "\n",
            "\n",
            "\n",
            "\n",
            "usable ace= 1\n",
            "Card sum= 12\n",
            "best action for state:[12, 0, 1]:0\n",
            "best action for state:[12, 1, 1]:0\n",
            "best action for state:[12, 2, 1]:0\n",
            "best action for state:[12, 3, 1]:0\n",
            "best action for state:[12, 4, 1]:0\n",
            "best action for state:[12, 5, 1]:0\n",
            "best action for state:[12, 6, 1]:0\n",
            "best action for state:[12, 7, 1]:0\n",
            "best action for state:[12, 8, 1]:0\n",
            "best action for state:[12, 9, 1]:0\n",
            "\n",
            "\n",
            "Card sum= 13\n",
            "best action for state:[13, 0, 1]:0\n",
            "best action for state:[13, 1, 1]:0\n",
            "best action for state:[13, 2, 1]:0\n",
            "best action for state:[13, 3, 1]:0\n",
            "best action for state:[13, 4, 1]:0\n",
            "best action for state:[13, 5, 1]:0\n",
            "best action for state:[13, 6, 1]:0\n",
            "best action for state:[13, 7, 1]:0\n",
            "best action for state:[13, 8, 1]:0\n",
            "best action for state:[13, 9, 1]:0\n",
            "\n",
            "\n",
            "Card sum= 14\n",
            "best action for state:[14, 0, 1]:0\n",
            "best action for state:[14, 1, 1]:0\n",
            "best action for state:[14, 2, 1]:0\n",
            "best action for state:[14, 3, 1]:0\n",
            "best action for state:[14, 4, 1]:0\n",
            "best action for state:[14, 5, 1]:0\n",
            "best action for state:[14, 6, 1]:0\n",
            "best action for state:[14, 7, 1]:0\n",
            "best action for state:[14, 8, 1]:0\n",
            "best action for state:[14, 9, 1]:0\n",
            "\n",
            "\n",
            "Card sum= 15\n",
            "best action for state:[15, 0, 1]:0\n",
            "best action for state:[15, 1, 1]:0\n",
            "best action for state:[15, 2, 1]:0\n",
            "best action for state:[15, 3, 1]:0\n",
            "best action for state:[15, 4, 1]:0\n",
            "best action for state:[15, 5, 1]:0\n",
            "best action for state:[15, 6, 1]:0\n",
            "best action for state:[15, 7, 1]:0\n",
            "best action for state:[15, 8, 1]:0\n",
            "best action for state:[15, 9, 1]:0\n",
            "\n",
            "\n",
            "Card sum= 16\n",
            "best action for state:[16, 0, 1]:0\n",
            "best action for state:[16, 1, 1]:0\n",
            "best action for state:[16, 2, 1]:0\n",
            "best action for state:[16, 3, 1]:0\n",
            "best action for state:[16, 4, 1]:0\n",
            "best action for state:[16, 5, 1]:0\n",
            "best action for state:[16, 6, 1]:0\n",
            "best action for state:[16, 7, 1]:0\n",
            "best action for state:[16, 8, 1]:0\n",
            "best action for state:[16, 9, 1]:0\n",
            "\n",
            "\n",
            "Card sum= 17\n",
            "best action for state:[17, 0, 1]:0\n",
            "best action for state:[17, 1, 1]:0\n",
            "best action for state:[17, 2, 1]:0\n",
            "best action for state:[17, 3, 1]:0\n",
            "best action for state:[17, 4, 1]:0\n",
            "best action for state:[17, 5, 1]:0\n",
            "best action for state:[17, 6, 1]:0\n",
            "best action for state:[17, 7, 1]:0\n",
            "best action for state:[17, 8, 1]:0\n",
            "best action for state:[17, 9, 1]:0\n",
            "\n",
            "\n",
            "Card sum= 18\n",
            "best action for state:[18, 0, 1]:0\n",
            "best action for state:[18, 1, 1]:0\n",
            "best action for state:[18, 2, 1]:0\n",
            "best action for state:[18, 3, 1]:0\n",
            "best action for state:[18, 4, 1]:0\n",
            "best action for state:[18, 5, 1]:0\n",
            "best action for state:[18, 6, 1]:0\n",
            "best action for state:[18, 7, 1]:0\n",
            "best action for state:[18, 8, 1]:0\n",
            "best action for state:[18, 9, 1]:0\n",
            "\n",
            "\n",
            "Card sum= 19\n",
            "best action for state:[19, 0, 1]:0\n",
            "best action for state:[19, 1, 1]:0\n",
            "best action for state:[19, 2, 1]:0\n",
            "best action for state:[19, 3, 1]:0\n",
            "best action for state:[19, 4, 1]:0\n",
            "best action for state:[19, 5, 1]:0\n",
            "best action for state:[19, 6, 1]:0\n",
            "best action for state:[19, 7, 1]:0\n",
            "best action for state:[19, 8, 1]:0\n",
            "best action for state:[19, 9, 1]:0\n",
            "\n",
            "\n",
            "Card sum= 20\n",
            "best action for state:[20, 0, 1]:0\n",
            "best action for state:[20, 1, 1]:0\n",
            "best action for state:[20, 2, 1]:0\n",
            "best action for state:[20, 3, 1]:0\n",
            "best action for state:[20, 4, 1]:0\n",
            "best action for state:[20, 5, 1]:0\n",
            "best action for state:[20, 6, 1]:0\n",
            "best action for state:[20, 7, 1]:0\n",
            "best action for state:[20, 8, 1]:0\n",
            "best action for state:[20, 9, 1]:0\n",
            "\n",
            "\n",
            "Card sum= 21\n",
            "best action for state:[21, 0, 1]:0\n",
            "best action for state:[21, 1, 1]:0\n",
            "best action for state:[21, 2, 1]:0\n",
            "best action for state:[21, 3, 1]:0\n",
            "best action for state:[21, 4, 1]:0\n",
            "best action for state:[21, 5, 1]:0\n",
            "best action for state:[21, 6, 1]:0\n",
            "best action for state:[21, 7, 1]:0\n",
            "best action for state:[21, 8, 1]:0\n",
            "best action for state:[21, 9, 1]:0\n",
            "\n",
            "\n",
            "\n",
            "\n"
          ]
        },
        {
          "output_type": "stream",
          "name": "stderr",
          "text": [
            "\n"
          ]
        }
      ]
    },
    {
      "cell_type": "markdown",
      "source": [
        "#deep Q-learning using RMSProp\n"
      ],
      "metadata": {
        "id": "s4o2_jvoDx_V"
      }
    },
    {
      "cell_type": "code",
      "source": [
        "max_episode=10**7\n",
        "max_epoch=40\n",
        "batch_size=1024\n",
        "decay_rate=1\n",
        "lr=0.01\n",
        "RMSProp_gamma=0.99\n",
        "\n",
        "model_RMS=NeuralNet(3,2)\n",
        "optimizer=RMSProp(model_RMS,lr,RMSProp_gamma)\n",
        "\n",
        "train(env,epsilon_greedy,model_RMS,optimizer,max_episode,max_epoch,batch_size,decay_rate)\n",
        "learned_policy(model_RMS)"
      ],
      "metadata": {
        "colab": {
          "base_uri": "https://localhost:8080/"
        },
        "id": "LAVvy9V0Dtsy",
        "outputId": "0869e72d-7b96-4967-c8ed-d9e7c6f0971d"
      },
      "execution_count": null,
      "outputs": [
        {
          "output_type": "stream",
          "name": "stderr",
          "text": [
            "  1%|          | 57733/10000000 [00:16<48:26, 3420.64it/s]"
          ]
        },
        {
          "output_type": "stream",
          "name": "stdout",
          "text": [
            "100th batch loss=2.510375910639123\n"
          ]
        },
        {
          "output_type": "stream",
          "name": "stderr",
          "text": [
            "  1%|▏         | 125549/10000000 [00:33<39:00, 4218.75it/s]"
          ]
        },
        {
          "output_type": "stream",
          "name": "stdout",
          "text": [
            "200th batch loss=4.776357246888992\n"
          ]
        },
        {
          "output_type": "stream",
          "name": "stderr",
          "text": [
            "  2%|▏         | 199341/10000000 [00:50<37:41, 4333.94it/s]"
          ]
        },
        {
          "output_type": "stream",
          "name": "stdout",
          "text": [
            "300th batch loss=3.620938913939032\n"
          ]
        },
        {
          "output_type": "stream",
          "name": "stderr",
          "text": [
            "  3%|▎         | 264856/10000000 [01:07<41:06, 3946.83it/s]"
          ]
        },
        {
          "output_type": "stream",
          "name": "stdout",
          "text": [
            "400th batch loss=2.067684980013074\n"
          ]
        },
        {
          "output_type": "stream",
          "name": "stderr",
          "text": [
            "  3%|▎         | 328027/10000000 [01:24<38:44, 4161.23it/s]"
          ]
        },
        {
          "output_type": "stream",
          "name": "stdout",
          "text": [
            "500th batch loss=4.2440382037526305\n"
          ]
        },
        {
          "output_type": "stream",
          "name": "stderr",
          "text": [
            "  4%|▍         | 390259/10000000 [01:40<41:45, 3835.89it/s]"
          ]
        },
        {
          "output_type": "stream",
          "name": "stdout",
          "text": [
            "600th batch loss=1.7493375697027462\n"
          ]
        },
        {
          "output_type": "stream",
          "name": "stderr",
          "text": [
            "  4%|▍         | 449562/10000000 [01:57<42:48, 3718.57it/s]"
          ]
        },
        {
          "output_type": "stream",
          "name": "stdout",
          "text": [
            "700th batch loss=0.46509220283074776\n"
          ]
        },
        {
          "output_type": "stream",
          "name": "stderr",
          "text": [
            "  5%|▌         | 512260/10000000 [02:13<39:13, 4030.76it/s]"
          ]
        },
        {
          "output_type": "stream",
          "name": "stdout",
          "text": [
            "800th batch loss=0.44289942030051566\n"
          ]
        },
        {
          "output_type": "stream",
          "name": "stderr",
          "text": [
            "  6%|▌         | 576794/10000000 [02:30<42:10, 3723.98it/s]"
          ]
        },
        {
          "output_type": "stream",
          "name": "stdout",
          "text": [
            "900th batch loss=0.4676506380322639\n"
          ]
        },
        {
          "output_type": "stream",
          "name": "stderr",
          "text": [
            "  6%|▋         | 641340/10000000 [02:47<43:06, 3618.44it/s]"
          ]
        },
        {
          "output_type": "stream",
          "name": "stdout",
          "text": [
            "1000th batch loss=0.4613093871084779\n"
          ]
        },
        {
          "output_type": "stream",
          "name": "stderr",
          "text": [
            "  7%|▋         | 705719/10000000 [03:04<42:48, 3619.03it/s]"
          ]
        },
        {
          "output_type": "stream",
          "name": "stdout",
          "text": [
            "1100th batch loss=0.44594224193271315\n"
          ]
        },
        {
          "output_type": "stream",
          "name": "stderr",
          "text": [
            "  8%|▊         | 771126/10000000 [03:21<41:17, 3724.36it/s]"
          ]
        },
        {
          "output_type": "stream",
          "name": "stdout",
          "text": [
            "1200th batch loss=0.48689132283942754\n"
          ]
        },
        {
          "output_type": "stream",
          "name": "stderr",
          "text": [
            "  8%|▊         | 836923/10000000 [03:38<41:28, 3681.55it/s]"
          ]
        },
        {
          "output_type": "stream",
          "name": "stdout",
          "text": [
            "1300th batch loss=0.4838292411280123\n"
          ]
        },
        {
          "output_type": "stream",
          "name": "stderr",
          "text": [
            "  9%|▉         | 902580/10000000 [03:55<40:54, 3706.12it/s]"
          ]
        },
        {
          "output_type": "stream",
          "name": "stdout",
          "text": [
            "1400th batch loss=0.4491996910583159\n"
          ]
        },
        {
          "output_type": "stream",
          "name": "stderr",
          "text": [
            " 10%|▉         | 968779/10000000 [04:12<42:13, 3564.05it/s]"
          ]
        },
        {
          "output_type": "stream",
          "name": "stdout",
          "text": [
            "1500th batch loss=0.46707394869985264\n"
          ]
        },
        {
          "output_type": "stream",
          "name": "stderr",
          "text": [
            " 10%|█         | 1034581/10000000 [04:29<39:34, 3776.01it/s]"
          ]
        },
        {
          "output_type": "stream",
          "name": "stdout",
          "text": [
            "1600th batch loss=0.4946830107508291\n"
          ]
        },
        {
          "output_type": "stream",
          "name": "stderr",
          "text": [
            " 11%|█         | 1100523/10000000 [04:46<38:36, 3842.57it/s]"
          ]
        },
        {
          "output_type": "stream",
          "name": "stdout",
          "text": [
            "1700th batch loss=0.47070376627327304\n"
          ]
        },
        {
          "output_type": "stream",
          "name": "stderr",
          "text": [
            " 12%|█▏        | 1166971/10000000 [05:03<38:46, 3796.47it/s]"
          ]
        },
        {
          "output_type": "stream",
          "name": "stdout",
          "text": [
            "1800th batch loss=0.5112439649978338\n"
          ]
        },
        {
          "output_type": "stream",
          "name": "stderr",
          "text": [
            " 12%|█▏        | 1233378/10000000 [05:20<39:19, 3715.63it/s]"
          ]
        },
        {
          "output_type": "stream",
          "name": "stdout",
          "text": [
            "1900th batch loss=0.47629736428917824\n"
          ]
        },
        {
          "output_type": "stream",
          "name": "stderr",
          "text": [
            " 13%|█▎        | 1299126/10000000 [05:37<34:21, 4220.27it/s]"
          ]
        },
        {
          "output_type": "stream",
          "name": "stdout",
          "text": [
            "2000th batch loss=0.47458019683629316\n"
          ]
        },
        {
          "output_type": "stream",
          "name": "stderr",
          "text": [
            " 14%|█▎        | 1365270/10000000 [05:54<34:03, 4224.87it/s]"
          ]
        },
        {
          "output_type": "stream",
          "name": "stdout",
          "text": [
            "2100th batch loss=0.49401878556946094\n"
          ]
        },
        {
          "output_type": "stream",
          "name": "stderr",
          "text": [
            " 14%|█▍        | 1431799/10000000 [06:11<34:33, 4132.78it/s]"
          ]
        },
        {
          "output_type": "stream",
          "name": "stdout",
          "text": [
            "2200th batch loss=0.46864850970510785\n"
          ]
        },
        {
          "output_type": "stream",
          "name": "stderr",
          "text": [
            " 15%|█▍        | 1498263/10000000 [06:28<33:29, 4231.39it/s]"
          ]
        },
        {
          "output_type": "stream",
          "name": "stdout",
          "text": [
            "2300th batch loss=0.45611224895729385\n"
          ]
        },
        {
          "output_type": "stream",
          "name": "stderr",
          "text": [
            " 16%|█▌        | 1564871/10000000 [06:45<37:43, 3727.00it/s]"
          ]
        },
        {
          "output_type": "stream",
          "name": "stdout",
          "text": [
            "2400th batch loss=0.4789392041901258\n"
          ]
        },
        {
          "output_type": "stream",
          "name": "stderr",
          "text": [
            " 16%|█▋        | 1630972/10000000 [07:02<35:01, 3982.57it/s]"
          ]
        },
        {
          "output_type": "stream",
          "name": "stdout",
          "text": [
            "2500th batch loss=0.48028735307399284\n"
          ]
        },
        {
          "output_type": "stream",
          "name": "stderr",
          "text": [
            " 17%|█▋        | 1697550/10000000 [07:19<33:16, 4159.17it/s]"
          ]
        },
        {
          "output_type": "stream",
          "name": "stdout",
          "text": [
            "2600th batch loss=0.4609086746754215\n"
          ]
        },
        {
          "output_type": "stream",
          "name": "stderr",
          "text": [
            " 18%|█▊        | 1763965/10000000 [07:37<33:36, 4083.49it/s]"
          ]
        },
        {
          "output_type": "stream",
          "name": "stdout",
          "text": [
            "2700th batch loss=0.4433511357447123\n"
          ]
        },
        {
          "output_type": "stream",
          "name": "stderr",
          "text": [
            " 18%|█▊        | 1830469/10000000 [07:54<36:20, 3747.03it/s]"
          ]
        },
        {
          "output_type": "stream",
          "name": "stdout",
          "text": [
            "2800th batch loss=0.4439812594532306\n"
          ]
        },
        {
          "output_type": "stream",
          "name": "stderr",
          "text": [
            " 19%|█▉        | 1897593/10000000 [08:11<27:50, 4850.21it/s]"
          ]
        },
        {
          "output_type": "stream",
          "name": "stdout",
          "text": [
            "2900th batch loss=5.981544755394546\n"
          ]
        },
        {
          "output_type": "stream",
          "name": "stderr",
          "text": [
            " 20%|█▉        | 1993208/10000000 [08:30<30:46, 4336.58it/s]"
          ]
        },
        {
          "output_type": "stream",
          "name": "stdout",
          "text": [
            "3000th batch loss=3.195518915818352\n"
          ]
        },
        {
          "output_type": "stream",
          "name": "stderr",
          "text": [
            " 21%|██        | 2062935/10000000 [08:48<38:03, 3475.31it/s]"
          ]
        },
        {
          "output_type": "stream",
          "name": "stdout",
          "text": [
            "3100th batch loss=0.8151421145615729\n"
          ]
        },
        {
          "output_type": "stream",
          "name": "stderr",
          "text": [
            " 21%|██▏       | 2125089/10000000 [09:05<34:38, 3788.38it/s]"
          ]
        },
        {
          "output_type": "stream",
          "name": "stdout",
          "text": [
            "3200th batch loss=0.49101201451860943\n"
          ]
        },
        {
          "output_type": "stream",
          "name": "stderr",
          "text": [
            " 22%|██▏       | 2193525/10000000 [09:22<34:18, 3792.16it/s]"
          ]
        },
        {
          "output_type": "stream",
          "name": "stdout",
          "text": [
            "3300th batch loss=0.5043070504506483\n"
          ]
        },
        {
          "output_type": "stream",
          "name": "stderr",
          "text": [
            " 23%|██▎       | 2262698/10000000 [09:39<30:32, 4222.08it/s]"
          ]
        },
        {
          "output_type": "stream",
          "name": "stdout",
          "text": [
            "3400th batch loss=0.4904544701923842\n"
          ]
        },
        {
          "output_type": "stream",
          "name": "stderr",
          "text": [
            " 23%|██▎       | 2330794/10000000 [09:56<30:04, 4250.81it/s]"
          ]
        },
        {
          "output_type": "stream",
          "name": "stdout",
          "text": [
            "3500th batch loss=0.4844829560882642\n"
          ]
        },
        {
          "output_type": "stream",
          "name": "stderr",
          "text": [
            " 24%|██▍       | 2398039/10000000 [10:13<29:45, 4256.79it/s]"
          ]
        },
        {
          "output_type": "stream",
          "name": "stdout",
          "text": [
            "3600th batch loss=0.5069705489231188\n"
          ]
        },
        {
          "output_type": "stream",
          "name": "stderr",
          "text": [
            " 25%|██▍       | 2465251/10000000 [10:30<29:53, 4201.44it/s]"
          ]
        },
        {
          "output_type": "stream",
          "name": "stdout",
          "text": [
            "3700th batch loss=0.47661838061677\n"
          ]
        },
        {
          "output_type": "stream",
          "name": "stderr",
          "text": [
            " 25%|██▌       | 2533080/10000000 [10:47<30:00, 4148.02it/s]"
          ]
        },
        {
          "output_type": "stream",
          "name": "stdout",
          "text": [
            "3800th batch loss=0.49788061322617544\n"
          ]
        },
        {
          "output_type": "stream",
          "name": "stderr",
          "text": [
            " 26%|██▌       | 2600845/10000000 [11:05<32:29, 3795.90it/s]"
          ]
        },
        {
          "output_type": "stream",
          "name": "stdout",
          "text": [
            "3900th batch loss=0.5098731643554635\n"
          ]
        },
        {
          "output_type": "stream",
          "name": "stderr",
          "text": [
            " 27%|██▋       | 2668113/10000000 [11:22<29:08, 4192.96it/s]"
          ]
        },
        {
          "output_type": "stream",
          "name": "stdout",
          "text": [
            "4000th batch loss=0.49586984086299746\n"
          ]
        },
        {
          "output_type": "stream",
          "name": "stderr",
          "text": [
            " 27%|██▋       | 2736281/10000000 [11:39<32:02, 3779.00it/s]"
          ]
        },
        {
          "output_type": "stream",
          "name": "stdout",
          "text": [
            "4100th batch loss=0.48328540214219773\n"
          ]
        },
        {
          "output_type": "stream",
          "name": "stderr",
          "text": [
            " 28%|██▊       | 2804151/10000000 [11:56<31:15, 3836.24it/s]"
          ]
        },
        {
          "output_type": "stream",
          "name": "stdout",
          "text": [
            "4200th batch loss=0.5213032662448958\n"
          ]
        },
        {
          "output_type": "stream",
          "name": "stderr",
          "text": [
            " 29%|██▊       | 2871822/10000000 [12:13<28:18, 4196.38it/s]"
          ]
        },
        {
          "output_type": "stream",
          "name": "stdout",
          "text": [
            "4300th batch loss=0.46970465721369103\n"
          ]
        },
        {
          "output_type": "stream",
          "name": "stderr",
          "text": [
            " 29%|██▉       | 2939959/10000000 [12:30<31:02, 3790.28it/s]"
          ]
        },
        {
          "output_type": "stream",
          "name": "stdout",
          "text": [
            "4400th batch loss=0.5275594550081159\n"
          ]
        },
        {
          "output_type": "stream",
          "name": "stderr",
          "text": [
            " 30%|███       | 3008317/10000000 [12:47<27:48, 4190.66it/s]"
          ]
        },
        {
          "output_type": "stream",
          "name": "stdout",
          "text": [
            "4500th batch loss=0.4745664816154166\n"
          ]
        },
        {
          "output_type": "stream",
          "name": "stderr",
          "text": [
            " 31%|███       | 3076403/10000000 [13:05<27:31, 4192.04it/s]"
          ]
        },
        {
          "output_type": "stream",
          "name": "stdout",
          "text": [
            "4600th batch loss=0.4827558540040162\n"
          ]
        },
        {
          "output_type": "stream",
          "name": "stderr",
          "text": [
            " 31%|███▏      | 3145279/10000000 [13:22<30:50, 3705.16it/s]"
          ]
        },
        {
          "output_type": "stream",
          "name": "stdout",
          "text": [
            "4700th batch loss=0.4839263095049928\n"
          ]
        },
        {
          "output_type": "stream",
          "name": "stderr",
          "text": [
            " 32%|███▏      | 3212852/10000000 [13:40<30:01, 3767.33it/s]"
          ]
        },
        {
          "output_type": "stream",
          "name": "stdout",
          "text": [
            "4800th batch loss=0.4735253016002877\n"
          ]
        },
        {
          "output_type": "stream",
          "name": "stderr",
          "text": [
            " 33%|███▎      | 3280913/10000000 [13:57<29:31, 3793.57it/s]"
          ]
        },
        {
          "output_type": "stream",
          "name": "stdout",
          "text": [
            "4900th batch loss=0.48621127818013266\n"
          ]
        },
        {
          "output_type": "stream",
          "name": "stderr",
          "text": [
            " 33%|███▎      | 3349203/10000000 [14:14<26:24, 4196.40it/s]"
          ]
        },
        {
          "output_type": "stream",
          "name": "stdout",
          "text": [
            "5000th batch loss=0.48866041954157236\n"
          ]
        },
        {
          "output_type": "stream",
          "name": "stderr",
          "text": [
            " 34%|███▍      | 3417137/10000000 [14:31<26:14, 4181.44it/s]"
          ]
        },
        {
          "output_type": "stream",
          "name": "stdout",
          "text": [
            "5100th batch loss=0.48948714140113936\n"
          ]
        },
        {
          "output_type": "stream",
          "name": "stderr",
          "text": [
            " 35%|███▍      | 3485288/10000000 [14:48<30:27, 3564.08it/s]"
          ]
        },
        {
          "output_type": "stream",
          "name": "stdout",
          "text": [
            "5200th batch loss=0.4565126990030861\n"
          ]
        },
        {
          "output_type": "stream",
          "name": "stderr",
          "text": [
            " 36%|███▌      | 3553064/10000000 [15:06<26:04, 4120.10it/s]"
          ]
        },
        {
          "output_type": "stream",
          "name": "stdout",
          "text": [
            "5300th batch loss=0.47160550036795024\n"
          ]
        },
        {
          "output_type": "stream",
          "name": "stderr",
          "text": [
            " 36%|███▌      | 3621457/10000000 [15:23<25:25, 4181.39it/s]"
          ]
        },
        {
          "output_type": "stream",
          "name": "stdout",
          "text": [
            "5400th batch loss=0.4820497655913132\n"
          ]
        },
        {
          "output_type": "stream",
          "name": "stderr",
          "text": [
            " 37%|███▋      | 3689632/10000000 [15:40<28:19, 3713.32it/s]"
          ]
        },
        {
          "output_type": "stream",
          "name": "stdout",
          "text": [
            "5500th batch loss=0.45059279020235987\n"
          ]
        },
        {
          "output_type": "stream",
          "name": "stderr",
          "text": [
            " 38%|███▊      | 3757411/10000000 [15:57<24:38, 4221.80it/s]"
          ]
        },
        {
          "output_type": "stream",
          "name": "stdout",
          "text": [
            "5600th batch loss=0.4835144818342295\n"
          ]
        },
        {
          "output_type": "stream",
          "name": "stderr",
          "text": [
            " 38%|███▊      | 3825285/10000000 [16:15<27:01, 3807.93it/s]"
          ]
        },
        {
          "output_type": "stream",
          "name": "stdout",
          "text": [
            "5700th batch loss=0.5170588398650992\n"
          ]
        },
        {
          "output_type": "stream",
          "name": "stderr",
          "text": [
            " 39%|███▉      | 3892707/10000000 [16:32<24:18, 4186.87it/s]"
          ]
        },
        {
          "output_type": "stream",
          "name": "stdout",
          "text": [
            "5800th batch loss=0.4593124051538127\n"
          ]
        },
        {
          "output_type": "stream",
          "name": "stderr",
          "text": [
            " 40%|███▉      | 3960325/10000000 [16:49<25:19, 3973.93it/s]"
          ]
        },
        {
          "output_type": "stream",
          "name": "stdout",
          "text": [
            "5900th batch loss=0.45311659810977745\n"
          ]
        },
        {
          "output_type": "stream",
          "name": "stderr",
          "text": [
            " 40%|████      | 4028247/10000000 [17:06<23:36, 4214.47it/s]"
          ]
        },
        {
          "output_type": "stream",
          "name": "stdout",
          "text": [
            "6000th batch loss=0.48403413372686965\n"
          ]
        },
        {
          "output_type": "stream",
          "name": "stderr",
          "text": [
            " 41%|████      | 4095627/10000000 [17:23<24:39, 3991.03it/s]"
          ]
        },
        {
          "output_type": "stream",
          "name": "stdout",
          "text": [
            "6100th batch loss=0.44127766244291916\n"
          ]
        },
        {
          "output_type": "stream",
          "name": "stderr",
          "text": [
            " 42%|████▏     | 4163705/10000000 [17:40<25:43, 3782.36it/s]"
          ]
        },
        {
          "output_type": "stream",
          "name": "stdout",
          "text": [
            "6200th batch loss=0.4657308965823707\n"
          ]
        },
        {
          "output_type": "stream",
          "name": "stderr",
          "text": [
            " 42%|████▏     | 4231356/10000000 [17:57<22:55, 4192.96it/s]"
          ]
        },
        {
          "output_type": "stream",
          "name": "stdout",
          "text": [
            "6300th batch loss=0.5166873727949002\n"
          ]
        },
        {
          "output_type": "stream",
          "name": "stderr",
          "text": [
            " 43%|████▎     | 4299487/10000000 [18:15<24:57, 3807.08it/s]"
          ]
        },
        {
          "output_type": "stream",
          "name": "stdout",
          "text": [
            "6400th batch loss=0.5082714239206623\n"
          ]
        },
        {
          "output_type": "stream",
          "name": "stderr",
          "text": [
            " 44%|████▎     | 4366846/10000000 [18:32<22:29, 4174.99it/s]"
          ]
        },
        {
          "output_type": "stream",
          "name": "stdout",
          "text": [
            "6500th batch loss=0.4608565541995934\n"
          ]
        },
        {
          "output_type": "stream",
          "name": "stderr",
          "text": [
            " 44%|████▍     | 4434365/10000000 [18:49<22:35, 4104.54it/s]"
          ]
        },
        {
          "output_type": "stream",
          "name": "stdout",
          "text": [
            "6600th batch loss=0.45606596802244936\n"
          ]
        },
        {
          "output_type": "stream",
          "name": "stderr",
          "text": [
            " 45%|████▌     | 4501881/10000000 [19:06<24:24, 3753.49it/s]"
          ]
        },
        {
          "output_type": "stream",
          "name": "stdout",
          "text": [
            "6700th batch loss=0.49796963101819375\n"
          ]
        },
        {
          "output_type": "stream",
          "name": "stderr",
          "text": [
            " 46%|████▌     | 4569333/10000000 [19:23<24:28, 3698.68it/s]"
          ]
        },
        {
          "output_type": "stream",
          "name": "stdout",
          "text": [
            "6800th batch loss=0.41698308469871026\n"
          ]
        },
        {
          "output_type": "stream",
          "name": "stderr",
          "text": [
            " 46%|████▋     | 4637347/10000000 [19:40<23:55, 3735.41it/s]"
          ]
        },
        {
          "output_type": "stream",
          "name": "stdout",
          "text": [
            "6900th batch loss=0.46296249707898274\n"
          ]
        },
        {
          "output_type": "stream",
          "name": "stderr",
          "text": [
            " 47%|████▋     | 4704347/10000000 [19:58<21:10, 4168.99it/s]"
          ]
        },
        {
          "output_type": "stream",
          "name": "stdout",
          "text": [
            "7000th batch loss=0.4728377133372133\n"
          ]
        },
        {
          "output_type": "stream",
          "name": "stderr",
          "text": [
            " 48%|████▊     | 4772142/10000000 [20:15<22:59, 3789.57it/s]"
          ]
        },
        {
          "output_type": "stream",
          "name": "stdout",
          "text": [
            "7100th batch loss=0.5190445404858879\n"
          ]
        },
        {
          "output_type": "stream",
          "name": "stderr",
          "text": [
            " 48%|████▊     | 4839097/10000000 [20:32<20:43, 4150.85it/s]"
          ]
        },
        {
          "output_type": "stream",
          "name": "stdout",
          "text": [
            "7200th batch loss=0.45633872294170147\n"
          ]
        },
        {
          "output_type": "stream",
          "name": "stderr",
          "text": [
            " 49%|████▉     | 4906575/10000000 [20:49<20:13, 4195.98it/s]"
          ]
        },
        {
          "output_type": "stream",
          "name": "stdout",
          "text": [
            "7300th batch loss=0.4576897568741356\n"
          ]
        },
        {
          "output_type": "stream",
          "name": "stderr",
          "text": [
            " 50%|████▉     | 4974078/10000000 [21:06<21:45, 3851.06it/s]"
          ]
        },
        {
          "output_type": "stream",
          "name": "stdout",
          "text": [
            "7400th batch loss=0.47697025221192935\n"
          ]
        },
        {
          "output_type": "stream",
          "name": "stderr",
          "text": [
            " 50%|█████     | 5041012/10000000 [21:23<19:44, 4185.62it/s]"
          ]
        },
        {
          "output_type": "stream",
          "name": "stdout",
          "text": [
            "7500th batch loss=0.48738150738713715\n"
          ]
        },
        {
          "output_type": "stream",
          "name": "stderr",
          "text": [
            " 51%|█████     | 5108214/10000000 [21:40<21:37, 3771.16it/s]"
          ]
        },
        {
          "output_type": "stream",
          "name": "stdout",
          "text": [
            "7600th batch loss=0.47516822583043683\n"
          ]
        },
        {
          "output_type": "stream",
          "name": "stderr",
          "text": [
            " 52%|█████▏    | 5175346/10000000 [21:57<21:47, 3688.93it/s]"
          ]
        },
        {
          "output_type": "stream",
          "name": "stdout",
          "text": [
            "7700th batch loss=0.4480824602247106\n"
          ]
        },
        {
          "output_type": "stream",
          "name": "stderr",
          "text": [
            " 52%|█████▏    | 5242230/10000000 [22:14<19:59, 3967.37it/s]"
          ]
        },
        {
          "output_type": "stream",
          "name": "stdout",
          "text": [
            "7800th batch loss=0.4555477815382195\n"
          ]
        },
        {
          "output_type": "stream",
          "name": "stderr",
          "text": [
            " 53%|█████▎    | 5309662/10000000 [22:31<20:53, 3742.88it/s]"
          ]
        },
        {
          "output_type": "stream",
          "name": "stdout",
          "text": [
            "7900th batch loss=0.489320231735348\n"
          ]
        },
        {
          "output_type": "stream",
          "name": "stderr",
          "text": [
            " 54%|█████▍    | 5376132/10000000 [22:49<21:31, 3580.89it/s]"
          ]
        },
        {
          "output_type": "stream",
          "name": "stdout",
          "text": [
            "8000th batch loss=0.435973796013324\n"
          ]
        },
        {
          "output_type": "stream",
          "name": "stderr",
          "text": [
            " 54%|█████▍    | 5443212/10000000 [23:06<18:12, 4169.18it/s]"
          ]
        },
        {
          "output_type": "stream",
          "name": "stdout",
          "text": [
            "8100th batch loss=0.4781331880922275\n"
          ]
        },
        {
          "output_type": "stream",
          "name": "stderr",
          "text": [
            " 55%|█████▌    | 5510211/10000000 [23:23<17:53, 4183.43it/s]"
          ]
        },
        {
          "output_type": "stream",
          "name": "stdout",
          "text": [
            "8200th batch loss=0.5316445046277598\n"
          ]
        },
        {
          "output_type": "stream",
          "name": "stderr",
          "text": [
            " 56%|█████▌    | 5577126/10000000 [23:40<19:59, 3686.84it/s]"
          ]
        },
        {
          "output_type": "stream",
          "name": "stdout",
          "text": [
            "8300th batch loss=0.4356108336741504\n"
          ]
        },
        {
          "output_type": "stream",
          "name": "stderr",
          "text": [
            " 56%|█████▋    | 5644195/10000000 [23:57<17:17, 4197.28it/s]"
          ]
        },
        {
          "output_type": "stream",
          "name": "stdout",
          "text": [
            "8400th batch loss=0.4847094135728763\n"
          ]
        },
        {
          "output_type": "stream",
          "name": "stderr",
          "text": [
            " 57%|█████▋    | 5711173/10000000 [24:15<19:41, 3628.63it/s]"
          ]
        },
        {
          "output_type": "stream",
          "name": "stdout",
          "text": [
            "8500th batch loss=0.48216147346603183\n"
          ]
        },
        {
          "output_type": "stream",
          "name": "stderr",
          "text": [
            " 58%|█████▊    | 5778459/10000000 [24:32<16:35, 4240.54it/s]"
          ]
        },
        {
          "output_type": "stream",
          "name": "stdout",
          "text": [
            "8600th batch loss=0.49504052023503536\n"
          ]
        },
        {
          "output_type": "stream",
          "name": "stderr",
          "text": [
            " 58%|█████▊    | 5846287/10000000 [24:49<16:42, 4143.36it/s]"
          ]
        },
        {
          "output_type": "stream",
          "name": "stdout",
          "text": [
            "8700th batch loss=0.46894510419636926\n"
          ]
        },
        {
          "output_type": "stream",
          "name": "stderr",
          "text": [
            " 59%|█████▉    | 5913634/10000000 [25:06<15:56, 4270.27it/s]"
          ]
        },
        {
          "output_type": "stream",
          "name": "stdout",
          "text": [
            "8800th batch loss=0.47489279030748055\n"
          ]
        },
        {
          "output_type": "stream",
          "name": "stderr",
          "text": [
            " 60%|█████▉    | 5980565/10000000 [25:23<17:40, 3789.81it/s]"
          ]
        },
        {
          "output_type": "stream",
          "name": "stdout",
          "text": [
            "8900th batch loss=0.4973178639962794\n"
          ]
        },
        {
          "output_type": "stream",
          "name": "stderr",
          "text": [
            " 60%|██████    | 6047738/10000000 [25:40<15:30, 4248.92it/s]"
          ]
        },
        {
          "output_type": "stream",
          "name": "stdout",
          "text": [
            "9000th batch loss=0.4787946466341501\n"
          ]
        },
        {
          "output_type": "stream",
          "name": "stderr",
          "text": [
            " 61%|██████    | 6115106/10000000 [25:57<16:54, 3829.95it/s]"
          ]
        },
        {
          "output_type": "stream",
          "name": "stdout",
          "text": [
            "9100th batch loss=0.4971758619699247\n"
          ]
        },
        {
          "output_type": "stream",
          "name": "stderr",
          "text": [
            " 62%|██████▏   | 6181889/10000000 [26:14<17:22, 3662.30it/s]"
          ]
        },
        {
          "output_type": "stream",
          "name": "stdout",
          "text": [
            "9200th batch loss=0.46151894263293275\n"
          ]
        },
        {
          "output_type": "stream",
          "name": "stderr",
          "text": [
            " 62%|██████▏   | 6248884/10000000 [26:31<15:26, 4049.20it/s]"
          ]
        },
        {
          "output_type": "stream",
          "name": "stdout",
          "text": [
            "9300th batch loss=0.4871551510369289\n"
          ]
        },
        {
          "output_type": "stream",
          "name": "stderr",
          "text": [
            " 63%|██████▎   | 6315815/10000000 [26:48<15:12, 4036.31it/s]"
          ]
        },
        {
          "output_type": "stream",
          "name": "stdout",
          "text": [
            "9400th batch loss=0.42256465702495233\n"
          ]
        },
        {
          "output_type": "stream",
          "name": "stderr",
          "text": [
            " 64%|██████▍   | 6383062/10000000 [27:06<16:18, 3695.23it/s]"
          ]
        },
        {
          "output_type": "stream",
          "name": "stdout",
          "text": [
            "9500th batch loss=0.4660297591187421\n"
          ]
        },
        {
          "output_type": "stream",
          "name": "stderr",
          "text": [
            " 65%|██████▍   | 6450224/10000000 [27:23<15:45, 3755.09it/s]"
          ]
        },
        {
          "output_type": "stream",
          "name": "stdout",
          "text": [
            "9600th batch loss=0.4947885122830829\n"
          ]
        },
        {
          "output_type": "stream",
          "name": "stderr",
          "text": [
            " 65%|██████▌   | 6516899/10000000 [27:40<15:20, 3785.70it/s]"
          ]
        },
        {
          "output_type": "stream",
          "name": "stdout",
          "text": [
            "9700th batch loss=0.483561837667551\n"
          ]
        },
        {
          "output_type": "stream",
          "name": "stderr",
          "text": [
            " 66%|██████▌   | 6583956/10000000 [27:57<15:17, 3724.79it/s]"
          ]
        },
        {
          "output_type": "stream",
          "name": "stdout",
          "text": [
            "9800th batch loss=0.5005462123831683\n"
          ]
        },
        {
          "output_type": "stream",
          "name": "stderr",
          "text": [
            " 67%|██████▋   | 6650912/10000000 [28:14<15:01, 3715.23it/s]"
          ]
        },
        {
          "output_type": "stream",
          "name": "stdout",
          "text": [
            "9900th batch loss=0.47502078838444306\n"
          ]
        },
        {
          "output_type": "stream",
          "name": "stderr",
          "text": [
            " 67%|██████▋   | 6717596/10000000 [28:31<13:18, 4112.02it/s]"
          ]
        },
        {
          "output_type": "stream",
          "name": "stdout",
          "text": [
            "10000th batch loss=0.45960025292686973\n"
          ]
        },
        {
          "output_type": "stream",
          "name": "stderr",
          "text": [
            " 68%|██████▊   | 6784519/10000000 [28:48<15:06, 3548.65it/s]"
          ]
        },
        {
          "output_type": "stream",
          "name": "stdout",
          "text": [
            "10100th batch loss=0.43875779402297665\n"
          ]
        },
        {
          "output_type": "stream",
          "name": "stderr",
          "text": [
            " 69%|██████▊   | 6851925/10000000 [29:05<14:03, 3733.57it/s]"
          ]
        },
        {
          "output_type": "stream",
          "name": "stdout",
          "text": [
            "10200th batch loss=0.4719412368040519\n"
          ]
        },
        {
          "output_type": "stream",
          "name": "stderr",
          "text": [
            " 69%|██████▉   | 6919144/10000000 [29:23<14:01, 3660.74it/s]"
          ]
        },
        {
          "output_type": "stream",
          "name": "stdout",
          "text": [
            "10300th batch loss=0.4771375258926625\n"
          ]
        },
        {
          "output_type": "stream",
          "name": "stderr",
          "text": [
            " 70%|██████▉   | 6986019/10000000 [29:40<11:59, 4187.08it/s]"
          ]
        },
        {
          "output_type": "stream",
          "name": "stdout",
          "text": [
            "10400th batch loss=0.447034254077027\n"
          ]
        },
        {
          "output_type": "stream",
          "name": "stderr",
          "text": [
            " 71%|███████   | 7053728/10000000 [29:57<11:47, 4161.79it/s]"
          ]
        },
        {
          "output_type": "stream",
          "name": "stdout",
          "text": [
            "10500th batch loss=0.45027347124400036\n"
          ]
        },
        {
          "output_type": "stream",
          "name": "stderr",
          "text": [
            " 71%|███████   | 7120616/10000000 [30:14<11:35, 4141.38it/s]"
          ]
        },
        {
          "output_type": "stream",
          "name": "stdout",
          "text": [
            "10600th batch loss=0.46172614513573984\n"
          ]
        },
        {
          "output_type": "stream",
          "name": "stderr",
          "text": [
            " 72%|███████▏  | 7187877/10000000 [30:31<11:07, 4213.29it/s]"
          ]
        },
        {
          "output_type": "stream",
          "name": "stdout",
          "text": [
            "10700th batch loss=0.5003732785657229\n"
          ]
        },
        {
          "output_type": "stream",
          "name": "stderr",
          "text": [
            " 73%|███████▎  | 7254937/10000000 [30:48<12:07, 3775.39it/s]"
          ]
        },
        {
          "output_type": "stream",
          "name": "stdout",
          "text": [
            "10800th batch loss=0.5059685802080525\n"
          ]
        },
        {
          "output_type": "stream",
          "name": "stderr",
          "text": [
            " 73%|███████▎  | 7322244/10000000 [31:05<11:21, 3927.91it/s]"
          ]
        },
        {
          "output_type": "stream",
          "name": "stdout",
          "text": [
            "10900th batch loss=0.504357668555518\n"
          ]
        },
        {
          "output_type": "stream",
          "name": "stderr",
          "text": [
            " 74%|███████▍  | 7389822/10000000 [31:23<10:49, 4018.91it/s]"
          ]
        },
        {
          "output_type": "stream",
          "name": "stdout",
          "text": [
            "11000th batch loss=0.48752284101364124\n"
          ]
        },
        {
          "output_type": "stream",
          "name": "stderr",
          "text": [
            " 75%|███████▍  | 7457206/10000000 [31:40<11:06, 3817.32it/s]"
          ]
        },
        {
          "output_type": "stream",
          "name": "stdout",
          "text": [
            "11100th batch loss=0.49867996197578857\n"
          ]
        },
        {
          "output_type": "stream",
          "name": "stderr",
          "text": [
            " 75%|███████▌  | 7524605/10000000 [31:57<10:47, 3823.95it/s]"
          ]
        },
        {
          "output_type": "stream",
          "name": "stdout",
          "text": [
            "11200th batch loss=0.49443851347813367\n"
          ]
        },
        {
          "output_type": "stream",
          "name": "stderr",
          "text": [
            " 76%|███████▌  | 7591742/10000000 [32:14<09:54, 4052.16it/s]"
          ]
        },
        {
          "output_type": "stream",
          "name": "stdout",
          "text": [
            "11300th batch loss=0.4735372485337699\n"
          ]
        },
        {
          "output_type": "stream",
          "name": "stderr",
          "text": [
            " 77%|███████▋  | 7659400/10000000 [32:31<09:24, 4149.92it/s]"
          ]
        },
        {
          "output_type": "stream",
          "name": "stdout",
          "text": [
            "11400th batch loss=0.46251108005147323\n"
          ]
        },
        {
          "output_type": "stream",
          "name": "stderr",
          "text": [
            " 77%|███████▋  | 7726695/10000000 [32:48<10:29, 3610.65it/s]"
          ]
        },
        {
          "output_type": "stream",
          "name": "stdout",
          "text": [
            "11500th batch loss=0.49801526285515874\n"
          ]
        },
        {
          "output_type": "stream",
          "name": "stderr",
          "text": [
            " 78%|███████▊  | 7793539/10000000 [33:05<10:19, 3564.27it/s]"
          ]
        },
        {
          "output_type": "stream",
          "name": "stdout",
          "text": [
            "11600th batch loss=0.4728197808120655\n"
          ]
        },
        {
          "output_type": "stream",
          "name": "stderr",
          "text": [
            " 79%|███████▊  | 7860702/10000000 [33:23<08:36, 4143.36it/s]"
          ]
        },
        {
          "output_type": "stream",
          "name": "stdout",
          "text": [
            "11700th batch loss=0.4771058519179036\n"
          ]
        },
        {
          "output_type": "stream",
          "name": "stderr",
          "text": [
            " 79%|███████▉  | 7928001/10000000 [33:40<09:22, 3681.89it/s]"
          ]
        },
        {
          "output_type": "stream",
          "name": "stdout",
          "text": [
            "11800th batch loss=0.46820517785382043\n"
          ]
        },
        {
          "output_type": "stream",
          "name": "stderr",
          "text": [
            " 80%|███████▉  | 7994739/10000000 [33:57<07:56, 4206.29it/s]"
          ]
        },
        {
          "output_type": "stream",
          "name": "stdout",
          "text": [
            "11900th batch loss=0.4617602981735328\n"
          ]
        },
        {
          "output_type": "stream",
          "name": "stderr",
          "text": [
            " 81%|████████  | 8061663/10000000 [34:14<07:48, 4134.36it/s]"
          ]
        },
        {
          "output_type": "stream",
          "name": "stdout",
          "text": [
            "12000th batch loss=0.4819263560379183\n"
          ]
        },
        {
          "output_type": "stream",
          "name": "stderr",
          "text": [
            " 81%|████████▏ | 8129079/10000000 [34:31<08:12, 3795.72it/s]"
          ]
        },
        {
          "output_type": "stream",
          "name": "stdout",
          "text": [
            "12100th batch loss=0.4742867913423465\n"
          ]
        },
        {
          "output_type": "stream",
          "name": "stderr",
          "text": [
            " 82%|████████▏ | 8196024/10000000 [34:48<07:16, 4133.84it/s]"
          ]
        },
        {
          "output_type": "stream",
          "name": "stdout",
          "text": [
            "12200th batch loss=0.4593941809048747\n"
          ]
        },
        {
          "output_type": "stream",
          "name": "stderr",
          "text": [
            " 83%|████████▎ | 8262577/10000000 [35:05<08:00, 3616.52it/s]"
          ]
        },
        {
          "output_type": "stream",
          "name": "stdout",
          "text": [
            "12300th batch loss=0.4441700354611981\n"
          ]
        },
        {
          "output_type": "stream",
          "name": "stderr",
          "text": [
            " 83%|████████▎ | 8329478/10000000 [35:23<06:45, 4124.72it/s]"
          ]
        },
        {
          "output_type": "stream",
          "name": "stdout",
          "text": [
            "12400th batch loss=0.48358094310635114\n"
          ]
        },
        {
          "output_type": "stream",
          "name": "stderr",
          "text": [
            " 84%|████████▍ | 8396373/10000000 [35:40<06:21, 4200.26it/s]"
          ]
        },
        {
          "output_type": "stream",
          "name": "stdout",
          "text": [
            "12500th batch loss=0.4593128758880999\n"
          ]
        },
        {
          "output_type": "stream",
          "name": "stderr",
          "text": [
            " 85%|████████▍ | 8463428/10000000 [35:57<06:19, 4051.85it/s]"
          ]
        },
        {
          "output_type": "stream",
          "name": "stdout",
          "text": [
            "12600th batch loss=0.4555721708281115\n"
          ]
        },
        {
          "output_type": "stream",
          "name": "stderr",
          "text": [
            " 85%|████████▌ | 8530234/10000000 [36:14<06:36, 3711.10it/s]"
          ]
        },
        {
          "output_type": "stream",
          "name": "stdout",
          "text": [
            "12700th batch loss=0.4586284949467643\n"
          ]
        },
        {
          "output_type": "stream",
          "name": "stderr",
          "text": [
            " 86%|████████▌ | 8597268/10000000 [36:31<06:17, 3713.16it/s]"
          ]
        },
        {
          "output_type": "stream",
          "name": "stdout",
          "text": [
            "12800th batch loss=0.48430533856144803\n"
          ]
        },
        {
          "output_type": "stream",
          "name": "stderr",
          "text": [
            " 87%|████████▋ | 8664135/10000000 [36:48<05:59, 3713.02it/s]"
          ]
        },
        {
          "output_type": "stream",
          "name": "stdout",
          "text": [
            "12900th batch loss=0.4620972421461713\n"
          ]
        },
        {
          "output_type": "stream",
          "name": "stderr",
          "text": [
            " 87%|████████▋ | 8730755/10000000 [37:05<05:45, 3675.99it/s]"
          ]
        },
        {
          "output_type": "stream",
          "name": "stdout",
          "text": [
            "13000th batch loss=0.44940046465872985\n"
          ]
        },
        {
          "output_type": "stream",
          "name": "stderr",
          "text": [
            " 88%|████████▊ | 8798223/10000000 [37:23<05:22, 3727.68it/s]"
          ]
        },
        {
          "output_type": "stream",
          "name": "stdout",
          "text": [
            "13100th batch loss=0.48535065966526025\n"
          ]
        },
        {
          "output_type": "stream",
          "name": "stderr",
          "text": [
            " 89%|████████▊ | 8865466/10000000 [37:40<05:00, 3771.40it/s]"
          ]
        },
        {
          "output_type": "stream",
          "name": "stdout",
          "text": [
            "13200th batch loss=0.4808501549569778\n"
          ]
        },
        {
          "output_type": "stream",
          "name": "stderr",
          "text": [
            " 89%|████████▉ | 8932083/10000000 [37:57<04:17, 4143.16it/s]"
          ]
        },
        {
          "output_type": "stream",
          "name": "stdout",
          "text": [
            "13300th batch loss=0.48049576782756126\n"
          ]
        },
        {
          "output_type": "stream",
          "name": "stderr",
          "text": [
            " 90%|████████▉ | 8999463/10000000 [38:14<04:26, 3752.89it/s]"
          ]
        },
        {
          "output_type": "stream",
          "name": "stdout",
          "text": [
            "13400th batch loss=0.44072698853759273\n"
          ]
        },
        {
          "output_type": "stream",
          "name": "stderr",
          "text": [
            " 91%|█████████ | 9066046/10000000 [38:31<03:41, 4214.99it/s]"
          ]
        },
        {
          "output_type": "stream",
          "name": "stdout",
          "text": [
            "13500th batch loss=0.44064723518226356\n"
          ]
        },
        {
          "output_type": "stream",
          "name": "stderr",
          "text": [
            " 91%|█████████▏| 9132207/10000000 [38:48<03:45, 3850.52it/s]"
          ]
        },
        {
          "output_type": "stream",
          "name": "stdout",
          "text": [
            "13600th batch loss=0.4583858357580559\n"
          ]
        },
        {
          "output_type": "stream",
          "name": "stderr",
          "text": [
            " 92%|█████████▏| 9199411/10000000 [39:05<03:37, 3688.77it/s]"
          ]
        },
        {
          "output_type": "stream",
          "name": "stdout",
          "text": [
            "13700th batch loss=0.4761968349495568\n"
          ]
        },
        {
          "output_type": "stream",
          "name": "stderr",
          "text": [
            " 93%|█████████▎| 9266323/10000000 [39:22<02:52, 4252.07it/s]"
          ]
        },
        {
          "output_type": "stream",
          "name": "stdout",
          "text": [
            "13800th batch loss=0.503273687126472\n"
          ]
        },
        {
          "output_type": "stream",
          "name": "stderr",
          "text": [
            " 93%|█████████▎| 9333250/10000000 [39:39<02:39, 4188.51it/s]"
          ]
        },
        {
          "output_type": "stream",
          "name": "stdout",
          "text": [
            "13900th batch loss=0.46684083907801055\n"
          ]
        },
        {
          "output_type": "stream",
          "name": "stderr",
          "text": [
            " 94%|█████████▍| 9400644/10000000 [39:56<02:42, 3692.83it/s]"
          ]
        },
        {
          "output_type": "stream",
          "name": "stdout",
          "text": [
            "14000th batch loss=0.48065960704436406\n"
          ]
        },
        {
          "output_type": "stream",
          "name": "stderr",
          "text": [
            " 95%|█████████▍| 9466909/10000000 [40:13<02:26, 3648.04it/s]"
          ]
        },
        {
          "output_type": "stream",
          "name": "stdout",
          "text": [
            "14100th batch loss=0.48280154178729506\n"
          ]
        },
        {
          "output_type": "stream",
          "name": "stderr",
          "text": [
            " 95%|█████████▌| 9534296/10000000 [40:31<02:05, 3718.01it/s]"
          ]
        },
        {
          "output_type": "stream",
          "name": "stdout",
          "text": [
            "14200th batch loss=0.4547945113985629\n"
          ]
        },
        {
          "output_type": "stream",
          "name": "stderr",
          "text": [
            " 96%|█████████▌| 9601170/10000000 [40:48<01:47, 3714.61it/s]"
          ]
        },
        {
          "output_type": "stream",
          "name": "stdout",
          "text": [
            "14300th batch loss=0.4519583506545181\n"
          ]
        },
        {
          "output_type": "stream",
          "name": "stderr",
          "text": [
            " 97%|█████████▋| 9668412/10000000 [41:05<01:26, 3824.84it/s]"
          ]
        },
        {
          "output_type": "stream",
          "name": "stdout",
          "text": [
            "14400th batch loss=0.48212540729627384\n"
          ]
        },
        {
          "output_type": "stream",
          "name": "stderr",
          "text": [
            " 97%|█████████▋| 9735660/10000000 [41:22<01:12, 3641.05it/s]"
          ]
        },
        {
          "output_type": "stream",
          "name": "stdout",
          "text": [
            "14500th batch loss=0.47796761886497907\n"
          ]
        },
        {
          "output_type": "stream",
          "name": "stderr",
          "text": [
            " 98%|█████████▊| 9803182/10000000 [41:39<00:56, 3465.03it/s]"
          ]
        },
        {
          "output_type": "stream",
          "name": "stdout",
          "text": [
            "14600th batch loss=0.46998941959885243\n"
          ]
        },
        {
          "output_type": "stream",
          "name": "stderr",
          "text": [
            " 99%|█████████▊| 9870025/10000000 [41:56<00:31, 4187.37it/s]"
          ]
        },
        {
          "output_type": "stream",
          "name": "stdout",
          "text": [
            "14700th batch loss=0.49290815297744073\n"
          ]
        },
        {
          "output_type": "stream",
          "name": "stderr",
          "text": [
            " 99%|█████████▉| 9936958/10000000 [42:13<00:17, 3698.93it/s]"
          ]
        },
        {
          "output_type": "stream",
          "name": "stdout",
          "text": [
            "14800th batch loss=0.45822251609291065\n"
          ]
        },
        {
          "output_type": "stream",
          "name": "stderr",
          "text": [
            "100%|██████████| 10000000/10000000 [42:30<00:00, 3921.11it/s]"
          ]
        },
        {
          "output_type": "stream",
          "name": "stdout",
          "text": [
            "usable ace= 0\n",
            "Card sum= 12\n",
            "best action for state:[12, 0, 0]:1\n",
            "best action for state:[12, 1, 0]:1\n",
            "best action for state:[12, 2, 0]:1\n",
            "best action for state:[12, 3, 0]:1\n",
            "best action for state:[12, 4, 0]:1\n",
            "best action for state:[12, 5, 0]:1\n",
            "best action for state:[12, 6, 0]:1\n",
            "best action for state:[12, 7, 0]:1\n",
            "best action for state:[12, 8, 0]:1\n",
            "best action for state:[12, 9, 0]:1\n",
            "\n",
            "\n",
            "Card sum= 13\n",
            "best action for state:[13, 0, 0]:1\n",
            "best action for state:[13, 1, 0]:1\n",
            "best action for state:[13, 2, 0]:1\n",
            "best action for state:[13, 3, 0]:1\n",
            "best action for state:[13, 4, 0]:1\n",
            "best action for state:[13, 5, 0]:1\n",
            "best action for state:[13, 6, 0]:1\n",
            "best action for state:[13, 7, 0]:1\n",
            "best action for state:[13, 8, 0]:1\n",
            "best action for state:[13, 9, 0]:1\n",
            "\n",
            "\n",
            "Card sum= 14\n",
            "best action for state:[14, 0, 0]:1\n",
            "best action for state:[14, 1, 0]:1\n",
            "best action for state:[14, 2, 0]:0\n",
            "best action for state:[14, 3, 0]:0\n",
            "best action for state:[14, 4, 0]:0\n",
            "best action for state:[14, 5, 0]:0\n",
            "best action for state:[14, 6, 0]:0\n",
            "best action for state:[14, 7, 0]:1\n",
            "best action for state:[14, 8, 0]:1\n",
            "best action for state:[14, 9, 0]:1\n",
            "\n",
            "\n",
            "Card sum= 15\n",
            "best action for state:[15, 0, 0]:1\n",
            "best action for state:[15, 1, 0]:1\n",
            "best action for state:[15, 2, 0]:0\n",
            "best action for state:[15, 3, 0]:0\n",
            "best action for state:[15, 4, 0]:0\n",
            "best action for state:[15, 5, 0]:0\n",
            "best action for state:[15, 6, 0]:0\n",
            "best action for state:[15, 7, 0]:1\n",
            "best action for state:[15, 8, 0]:1\n",
            "best action for state:[15, 9, 0]:1\n",
            "\n",
            "\n",
            "Card sum= 16\n",
            "best action for state:[16, 0, 0]:1\n",
            "best action for state:[16, 1, 0]:1\n",
            "best action for state:[16, 2, 0]:0\n",
            "best action for state:[16, 3, 0]:0\n",
            "best action for state:[16, 4, 0]:0\n",
            "best action for state:[16, 5, 0]:0\n",
            "best action for state:[16, 6, 0]:0\n",
            "best action for state:[16, 7, 0]:0\n",
            "best action for state:[16, 8, 0]:1\n",
            "best action for state:[16, 9, 0]:1\n",
            "\n",
            "\n",
            "Card sum= 17\n",
            "best action for state:[17, 0, 0]:1\n",
            "best action for state:[17, 1, 0]:1\n",
            "best action for state:[17, 2, 0]:0\n",
            "best action for state:[17, 3, 0]:0\n",
            "best action for state:[17, 4, 0]:0\n",
            "best action for state:[17, 5, 0]:0\n",
            "best action for state:[17, 6, 0]:0\n",
            "best action for state:[17, 7, 0]:0\n",
            "best action for state:[17, 8, 0]:0\n",
            "best action for state:[17, 9, 0]:0\n",
            "\n",
            "\n",
            "Card sum= 18\n",
            "best action for state:[18, 0, 0]:1\n",
            "best action for state:[18, 1, 0]:0\n",
            "best action for state:[18, 2, 0]:0\n",
            "best action for state:[18, 3, 0]:0\n",
            "best action for state:[18, 4, 0]:0\n",
            "best action for state:[18, 5, 0]:0\n",
            "best action for state:[18, 6, 0]:0\n",
            "best action for state:[18, 7, 0]:0\n",
            "best action for state:[18, 8, 0]:0\n",
            "best action for state:[18, 9, 0]:0\n",
            "\n",
            "\n",
            "Card sum= 19\n",
            "best action for state:[19, 0, 0]:1\n",
            "best action for state:[19, 1, 0]:0\n",
            "best action for state:[19, 2, 0]:0\n",
            "best action for state:[19, 3, 0]:0\n",
            "best action for state:[19, 4, 0]:0\n",
            "best action for state:[19, 5, 0]:0\n",
            "best action for state:[19, 6, 0]:0\n",
            "best action for state:[19, 7, 0]:0\n",
            "best action for state:[19, 8, 0]:0\n",
            "best action for state:[19, 9, 0]:0\n",
            "\n",
            "\n",
            "Card sum= 20\n",
            "best action for state:[20, 0, 0]:1\n",
            "best action for state:[20, 1, 0]:0\n",
            "best action for state:[20, 2, 0]:0\n",
            "best action for state:[20, 3, 0]:0\n",
            "best action for state:[20, 4, 0]:0\n",
            "best action for state:[20, 5, 0]:0\n",
            "best action for state:[20, 6, 0]:0\n",
            "best action for state:[20, 7, 0]:0\n",
            "best action for state:[20, 8, 0]:0\n",
            "best action for state:[20, 9, 0]:0\n",
            "\n",
            "\n",
            "Card sum= 21\n",
            "best action for state:[21, 0, 0]:1\n",
            "best action for state:[21, 1, 0]:0\n",
            "best action for state:[21, 2, 0]:0\n",
            "best action for state:[21, 3, 0]:0\n",
            "best action for state:[21, 4, 0]:0\n",
            "best action for state:[21, 5, 0]:0\n",
            "best action for state:[21, 6, 0]:0\n",
            "best action for state:[21, 7, 0]:0\n",
            "best action for state:[21, 8, 0]:0\n",
            "best action for state:[21, 9, 0]:0\n",
            "\n",
            "\n",
            "\n",
            "\n",
            "usable ace= 1\n",
            "Card sum= 12\n",
            "best action for state:[12, 0, 1]:1\n",
            "best action for state:[12, 1, 1]:1\n",
            "best action for state:[12, 2, 1]:1\n",
            "best action for state:[12, 3, 1]:1\n",
            "best action for state:[12, 4, 1]:1\n",
            "best action for state:[12, 5, 1]:1\n",
            "best action for state:[12, 6, 1]:1\n",
            "best action for state:[12, 7, 1]:1\n",
            "best action for state:[12, 8, 1]:1\n",
            "best action for state:[12, 9, 1]:1\n",
            "\n",
            "\n",
            "Card sum= 13\n",
            "best action for state:[13, 0, 1]:1\n",
            "best action for state:[13, 1, 1]:1\n",
            "best action for state:[13, 2, 1]:1\n",
            "best action for state:[13, 3, 1]:1\n",
            "best action for state:[13, 4, 1]:1\n",
            "best action for state:[13, 5, 1]:1\n",
            "best action for state:[13, 6, 1]:1\n",
            "best action for state:[13, 7, 1]:1\n",
            "best action for state:[13, 8, 1]:1\n",
            "best action for state:[13, 9, 1]:1\n",
            "\n",
            "\n",
            "Card sum= 14\n",
            "best action for state:[14, 0, 1]:1\n",
            "best action for state:[14, 1, 1]:1\n",
            "best action for state:[14, 2, 1]:1\n",
            "best action for state:[14, 3, 1]:1\n",
            "best action for state:[14, 4, 1]:1\n",
            "best action for state:[14, 5, 1]:1\n",
            "best action for state:[14, 6, 1]:1\n",
            "best action for state:[14, 7, 1]:1\n",
            "best action for state:[14, 8, 1]:1\n",
            "best action for state:[14, 9, 1]:1\n",
            "\n",
            "\n",
            "Card sum= 15\n",
            "best action for state:[15, 0, 1]:1\n",
            "best action for state:[15, 1, 1]:1\n",
            "best action for state:[15, 2, 1]:1\n",
            "best action for state:[15, 3, 1]:1\n",
            "best action for state:[15, 4, 1]:1\n",
            "best action for state:[15, 5, 1]:1\n",
            "best action for state:[15, 6, 1]:1\n",
            "best action for state:[15, 7, 1]:1\n",
            "best action for state:[15, 8, 1]:1\n",
            "best action for state:[15, 9, 1]:1\n",
            "\n",
            "\n",
            "Card sum= 16\n",
            "best action for state:[16, 0, 1]:1\n",
            "best action for state:[16, 1, 1]:1\n",
            "best action for state:[16, 2, 1]:1\n",
            "best action for state:[16, 3, 1]:1\n",
            "best action for state:[16, 4, 1]:1\n",
            "best action for state:[16, 5, 1]:1\n",
            "best action for state:[16, 6, 1]:1\n",
            "best action for state:[16, 7, 1]:1\n",
            "best action for state:[16, 8, 1]:1\n",
            "best action for state:[16, 9, 1]:1\n",
            "\n",
            "\n",
            "Card sum= 17\n",
            "best action for state:[17, 0, 1]:1\n",
            "best action for state:[17, 1, 1]:1\n",
            "best action for state:[17, 2, 1]:1\n",
            "best action for state:[17, 3, 1]:1\n",
            "best action for state:[17, 4, 1]:0\n",
            "best action for state:[17, 5, 1]:0\n",
            "best action for state:[17, 6, 1]:0\n",
            "best action for state:[17, 7, 1]:0\n",
            "best action for state:[17, 8, 1]:1\n",
            "best action for state:[17, 9, 1]:1\n",
            "\n",
            "\n",
            "Card sum= 18\n",
            "best action for state:[18, 0, 1]:1\n",
            "best action for state:[18, 1, 1]:0\n",
            "best action for state:[18, 2, 1]:0\n",
            "best action for state:[18, 3, 1]:0\n",
            "best action for state:[18, 4, 1]:0\n",
            "best action for state:[18, 5, 1]:0\n",
            "best action for state:[18, 6, 1]:0\n",
            "best action for state:[18, 7, 1]:0\n",
            "best action for state:[18, 8, 1]:0\n",
            "best action for state:[18, 9, 1]:0\n",
            "\n",
            "\n",
            "Card sum= 19\n",
            "best action for state:[19, 0, 1]:0\n",
            "best action for state:[19, 1, 1]:0\n",
            "best action for state:[19, 2, 1]:0\n",
            "best action for state:[19, 3, 1]:0\n",
            "best action for state:[19, 4, 1]:0\n",
            "best action for state:[19, 5, 1]:0\n",
            "best action for state:[19, 6, 1]:0\n",
            "best action for state:[19, 7, 1]:0\n",
            "best action for state:[19, 8, 1]:0\n",
            "best action for state:[19, 9, 1]:0\n",
            "\n",
            "\n",
            "Card sum= 20\n",
            "best action for state:[20, 0, 1]:0\n",
            "best action for state:[20, 1, 1]:0\n",
            "best action for state:[20, 2, 1]:0\n",
            "best action for state:[20, 3, 1]:0\n",
            "best action for state:[20, 4, 1]:0\n",
            "best action for state:[20, 5, 1]:0\n",
            "best action for state:[20, 6, 1]:0\n",
            "best action for state:[20, 7, 1]:0\n",
            "best action for state:[20, 8, 1]:0\n",
            "best action for state:[20, 9, 1]:0\n",
            "\n",
            "\n",
            "Card sum= 21\n",
            "best action for state:[21, 0, 1]:0\n",
            "best action for state:[21, 1, 1]:0\n",
            "best action for state:[21, 2, 1]:0\n",
            "best action for state:[21, 3, 1]:0\n",
            "best action for state:[21, 4, 1]:0\n",
            "best action for state:[21, 5, 1]:0\n",
            "best action for state:[21, 6, 1]:0\n",
            "best action for state:[21, 7, 1]:0\n",
            "best action for state:[21, 8, 1]:0\n",
            "best action for state:[21, 9, 1]:0\n",
            "\n",
            "\n",
            "\n",
            "\n"
          ]
        },
        {
          "output_type": "stream",
          "name": "stderr",
          "text": [
            "\n"
          ]
        }
      ]
    },
    {
      "cell_type": "code",
      "source": [
        "gpu_info=!nvidia-smi\n",
        "gpu_info='\\n'.join(gpu_info)\n",
        "if gpu_info.find('failed')>=0:\n",
        "  print('Not connected to GPU')\n",
        "else:\n",
        "  print(gpu_info)\n"
      ],
      "metadata": {
        "colab": {
          "base_uri": "https://localhost:8080/"
        },
        "id": "ugmI8Os04twV",
        "outputId": "95c050f7-8c86-4455-8aea-bfba2dced1da"
      },
      "execution_count": null,
      "outputs": [
        {
          "output_type": "stream",
          "name": "stdout",
          "text": [
            "Thu Feb 27 01:39:34 2025       \n",
            "+-----------------------------------------------------------------------------------------+\n",
            "| NVIDIA-SMI 550.54.15              Driver Version: 550.54.15      CUDA Version: 12.4     |\n",
            "|-----------------------------------------+------------------------+----------------------+\n",
            "| GPU  Name                 Persistence-M | Bus-Id          Disp.A | Volatile Uncorr. ECC |\n",
            "| Fan  Temp   Perf          Pwr:Usage/Cap |           Memory-Usage | GPU-Util  Compute M. |\n",
            "|                                         |                        |               MIG M. |\n",
            "|=========================================+========================+======================|\n",
            "|   0  Tesla T4                       Off |   00000000:00:04.0 Off |                    0 |\n",
            "| N/A   57C    P8             12W /   70W |       0MiB /  15360MiB |      0%      Default |\n",
            "|                                         |                        |                  N/A |\n",
            "+-----------------------------------------+------------------------+----------------------+\n",
            "                                                                                         \n",
            "+-----------------------------------------------------------------------------------------+\n",
            "| Processes:                                                                              |\n",
            "|  GPU   GI   CI        PID   Type   Process name                              GPU Memory |\n",
            "|        ID   ID                                                               Usage      |\n",
            "|=========================================================================================|\n",
            "|  No running processes found                                                             |\n",
            "+-----------------------------------------------------------------------------------------+\n"
          ]
        }
      ]
    }
  ]
}
